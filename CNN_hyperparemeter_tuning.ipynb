{
  "nbformat": 4,
  "nbformat_minor": 0,
  "metadata": {
    "colab": {
      "name": "SHAKTHIVEL_50415701_CHIDUBEM_50189414_bonus_assignment3.ipynb",
      "provenance": [],
      "collapsed_sections": []
    },
    "kernelspec": {
      "name": "python3",
      "display_name": "Python 3"
    },
    "language_info": {
      "name": "python"
    }
  },
  "cells": [
    {
      "cell_type": "code",
      "source": [
        "#Academic Integrity Statement\n",
        "# I certify that the code and data in this assignment were generated independently, using only\n",
        "# the tools and resources defined in the course and that I did not receieve any external help,\n",
        "# coaching or contributuion during the production of this work. "
      ],
      "metadata": {
        "id": "ipBcatANTOy5"
      },
      "execution_count": 3,
      "outputs": []
    },
    {
      "cell_type": "code",
      "source": [
        "import pandas as pd\n",
        "import numpy as np\n",
        "import matplotlib.pyplot as plt"
      ],
      "metadata": {
        "id": "ZhnAHwgcUhQh"
      },
      "execution_count": 21,
      "outputs": []
    },
    {
      "cell_type": "markdown",
      "source": [
        "# Bonus Question Perceptron Model From Scratch"
      ],
      "metadata": {
        "id": "hsdTE8ZOGLCg"
      }
    },
    {
      "cell_type": "code",
      "execution_count": 6,
      "metadata": {
        "id": "MRwOKkyZFzbB"
      },
      "outputs": [],
      "source": [
        "df_peng = pd.read_csv('penguins_lter.csv')"
      ]
    },
    {
      "cell_type": "code",
      "source": [
        "df_peng['Culmen Length (mm)']"
      ],
      "metadata": {
        "colab": {
          "base_uri": "https://localhost:8080/"
        },
        "id": "q33mTBtgGQzQ",
        "outputId": "e7ecccbe-d65d-4017-831b-da8c883d773a"
      },
      "execution_count": 7,
      "outputs": [
        {
          "output_type": "execute_result",
          "data": {
            "text/plain": [
              "0      39.1\n",
              "1      39.5\n",
              "2      40.3\n",
              "3       NaN\n",
              "4      36.7\n",
              "       ... \n",
              "339     NaN\n",
              "340    46.8\n",
              "341    50.4\n",
              "342    45.2\n",
              "343    49.9\n",
              "Name: Culmen Length (mm), Length: 344, dtype: float64"
            ]
          },
          "metadata": {},
          "execution_count": 7
        }
      ]
    },
    {
      "cell_type": "code",
      "source": [
        "# Preprocessing the dataset"
      ],
      "metadata": {
        "id": "vQLAL-ALxZl7"
      },
      "execution_count": 24,
      "outputs": []
    },
    {
      "cell_type": "code",
      "source": [
        "del df_peng['Comments']\n",
        "\n",
        "df_peng = df_peng.dropna(subset=['Culmen Length (mm)', 'Culmen Depth (mm)','Body Mass (g)','Sex'])\n",
        "\n",
        "df_peng['Delta 15 N (o/oo)'].fillna((df_peng['Delta 15 N (o/oo)'].mean()), inplace=True)\n",
        "df_peng['Delta 13 C (o/oo)'].fillna((df_peng['Delta 13 C (o/oo)'].mean()), inplace=True)\n",
        "\n",
        "df_peng = df_peng[df_peng['Sex'] != '.']\n",
        "\n",
        "df_peng = pd.get_dummies(df_peng, columns = [\"Sex\", \"Species\", \"Island\"], prefix = [\"sex\", \"Spc\", \"Isld\"])\n",
        "\n",
        "def minmaxscaling(column):\n",
        "  lengthmin = column.min()\n",
        "  lengthmax = column.max()\n",
        "  newlist = []\n",
        "  for i in column:\n",
        "      newlist.append((i-lengthmin)/(lengthmax-lengthmin))\n",
        "\n",
        "  return newlist\n",
        "\n",
        "df_peng['Culmen Length (mm)'] = minmaxscaling(df_peng['Culmen Length (mm)'])\n",
        "\n",
        "df_peng['Culmen Length (mm)'] = minmaxscaling(df_peng['Culmen Depth (mm)'])\n",
        "\n",
        "df_peng['Flipper Length (mm)'] = minmaxscaling(df_peng['Flipper Length (mm)'])\n",
        "\n",
        "df_peng['Body Mass (g)'] = minmaxscaling(df_peng['Body Mass (g)'])\n",
        "\n",
        "newdf = df_peng.iloc[:,7:]\n",
        "\n"
      ],
      "metadata": {
        "colab": {
          "base_uri": "https://localhost:8080/"
        },
        "id": "hwQG0_9IGSpM",
        "outputId": "f86a1ca6-c748-4d50-df1a-8956e240f5ad"
      },
      "execution_count": 8,
      "outputs": [
        {
          "output_type": "stream",
          "name": "stderr",
          "text": [
            "/usr/local/lib/python3.7/dist-packages/pandas/core/generic.py:6392: SettingWithCopyWarning: \n",
            "A value is trying to be set on a copy of a slice from a DataFrame\n",
            "\n",
            "See the caveats in the documentation: https://pandas.pydata.org/pandas-docs/stable/user_guide/indexing.html#returning-a-view-versus-a-copy\n",
            "  return self._update_inplace(result)\n"
          ]
        }
      ]
    },
    {
      "cell_type": "code",
      "source": [
        "df_peng['Culmen Length (mm)']\n"
      ],
      "metadata": {
        "colab": {
          "base_uri": "https://localhost:8080/"
        },
        "id": "Ak3JY5pbGVC1",
        "outputId": "88d82873-e63e-4cf0-9ec2-f71071a2a587"
      },
      "execution_count": 9,
      "outputs": [
        {
          "output_type": "execute_result",
          "data": {
            "text/plain": [
              "0      0.666667\n",
              "1      0.511905\n",
              "2      0.583333\n",
              "4      0.738095\n",
              "5      0.892857\n",
              "         ...   \n",
              "338    0.071429\n",
              "340    0.142857\n",
              "341    0.309524\n",
              "342    0.202381\n",
              "343    0.357143\n",
              "Name: Culmen Length (mm), Length: 333, dtype: float64"
            ]
          },
          "metadata": {},
          "execution_count": 9
        }
      ]
    },
    {
      "cell_type": "code",
      "source": [
        "df_array = newdf.to_numpy()"
      ],
      "metadata": {
        "id": "o4QxfhE8GZxG"
      },
      "execution_count": 10,
      "outputs": []
    },
    {
      "cell_type": "code",
      "source": [
        "X = newdf.iloc[:,[0,1,2,3,4,5,8,9,10,11,12,13]]\n",
        "y = newdf.iloc[:,7]\n",
        "  \n",
        "newdf.iloc[:,7]"
      ],
      "metadata": {
        "colab": {
          "base_uri": "https://localhost:8080/"
        },
        "id": "hsdbVHL9GaVs",
        "outputId": "4126cd16-15c6-43c5-c230-9188fd116623"
      },
      "execution_count": 11,
      "outputs": [
        {
          "output_type": "execute_result",
          "data": {
            "text/plain": [
              "0      1\n",
              "1      0\n",
              "2      0\n",
              "4      0\n",
              "5      1\n",
              "      ..\n",
              "338    0\n",
              "340    0\n",
              "341    1\n",
              "342    0\n",
              "343    1\n",
              "Name: sex_MALE, Length: 333, dtype: uint8"
            ]
          },
          "metadata": {},
          "execution_count": 11
        }
      ]
    },
    {
      "cell_type": "code",
      "source": [
        "from sklearn.model_selection import train_test_split\n",
        "\n",
        "X_train, X_test, y_train, y_test = train_test_split(X, y, test_size = 0.2, random_state = 123)"
      ],
      "metadata": {
        "id": "aRBDiQdgGiGC"
      },
      "execution_count": 12,
      "outputs": []
    },
    {
      "cell_type": "code",
      "source": [
        "X_train.dtypes"
      ],
      "metadata": {
        "colab": {
          "base_uri": "https://localhost:8080/"
        },
        "id": "QrFj__oUGkz8",
        "outputId": "59e1a49e-7626-44fd-9ac1-95493c64f09e"
      },
      "execution_count": 13,
      "outputs": [
        {
          "output_type": "execute_result",
          "data": {
            "text/plain": [
              "Culmen Length (mm)                               float64\n",
              "Culmen Depth (mm)                                float64\n",
              "Flipper Length (mm)                              float64\n",
              "Body Mass (g)                                    float64\n",
              "Delta 15 N (o/oo)                                float64\n",
              "Delta 13 C (o/oo)                                float64\n",
              "Spc_Adelie Penguin (Pygoscelis adeliae)            uint8\n",
              "Spc_Chinstrap penguin (Pygoscelis antarctica)      uint8\n",
              "Spc_Gentoo penguin (Pygoscelis papua)              uint8\n",
              "Isld_Biscoe                                        uint8\n",
              "Isld_Dream                                         uint8\n",
              "Isld_Torgersen                                     uint8\n",
              "dtype: object"
            ]
          },
          "metadata": {},
          "execution_count": 13
        }
      ]
    },
    {
      "cell_type": "code",
      "source": [
        "X_train['Spc_Chinstrap penguin (Pygoscelis antarctica)'] = np.int16(X_train['Spc_Chinstrap penguin (Pygoscelis antarctica)'])\n",
        "X_train['Spc_Adelie Penguin (Pygoscelis adeliae)'] = np.int16(X_train['Spc_Adelie Penguin (Pygoscelis adeliae)'])\n",
        "X_train['Spc_Gentoo penguin (Pygoscelis papua)'] = np.int16(X_train['Spc_Gentoo penguin (Pygoscelis papua)'])\n",
        "X_train['Isld_Biscoe'] = np.int16(X_train['Isld_Biscoe'])\n",
        "X_train['Isld_Dream'] = np.int16(X_train['Isld_Dream'])\n",
        "X_train['Isld_Torgersen'] = np.int16(X_train['Isld_Torgersen'])"
      ],
      "metadata": {
        "id": "L8r1etMZGnVi"
      },
      "execution_count": 14,
      "outputs": []
    },
    {
      "cell_type": "code",
      "source": [
        "xtrain = X_train.to_numpy()\n",
        "xtest = X_test.to_numpy()\n",
        "\n",
        "ytrain = y_train.to_numpy()\n",
        "ytest = y_test.to_numpy()"
      ],
      "metadata": {
        "id": "CyPXRwpGGtAK"
      },
      "execution_count": 16,
      "outputs": []
    },
    {
      "cell_type": "code",
      "source": [
        "ytrain"
      ],
      "metadata": {
        "id": "xsfTOb2_UzgM"
      },
      "execution_count": null,
      "outputs": []
    },
    {
      "cell_type": "code",
      "source": [
        "ytrainy = ytrain.reshape(266,1)\n",
        "ytesty = ytest.reshape(67,1)\n",
        "print(ytesty.shape, ytrainy.shape)"
      ],
      "metadata": {
        "colab": {
          "base_uri": "https://localhost:8080/"
        },
        "id": "VaHIs-nWGtSG",
        "outputId": "15cfc755-56be-4dd8-c22b-854487f42c75"
      },
      "execution_count": 18,
      "outputs": [
        {
          "output_type": "stream",
          "name": "stdout",
          "text": [
            "(67, 1) (266, 1)\n"
          ]
        }
      ]
    },
    {
      "cell_type": "code",
      "source": [
        "learningrate = 0.001\n",
        "iterations = 10000\n",
        "N = ytrainy.size\n",
        "\n",
        "inputsize = 12\n",
        "hiddensize = 266\n",
        "outputsize = 2\n",
        "\n",
        "results = pd.DataFrame(columns=[\"mse\", \"accuracy\"])\n",
        "\n",
        "np.random.seed(123)\n",
        "\n",
        "W1 = np.random.normal(scale=0.5, size = (inputsize, hiddensize))\n",
        "W2 = np.random.normal(scale=0.5, size = (hiddensize, outputsize))\n",
        "\n",
        "def sigmoid(x):\n",
        "  return 1/(1 + np.exp(-x))\n",
        "\n",
        "def meanse(ypred, ytrue):\n",
        "  return ((ypred-ytrue)**2).sum()/(2*ypred.size)\n",
        "\n",
        "def accuracy(ypred, ytrue):\n",
        "  acc = ypred.argmax(axis=1)==ytrue.argmax(axis=1)\n",
        "  return acc.mean()\n",
        "\n",
        "atrain = []\n",
        "atest = []\n",
        "errortrain = []\n",
        "errortest = []\n",
        "for itr in range (iterations):\n",
        "\n",
        "  Z1 = np.dot(xtrain, W1)\n",
        "  A1 = sigmoid(Z1)\n",
        "\n",
        "  Z2 = np.dot(A1, W2)\n",
        "  A2 = sigmoid(Z2)\n",
        "\n",
        "  V1 = np.dot(xtest, W1)\n",
        "  B1 = sigmoid(V1)\n",
        "\n",
        "  V2 = np.dot(B1, W2)\n",
        "  B2 = sigmoid(V2)\n",
        "\n",
        "  msetrain = meanse(A2, ytrainy)\n",
        "  acctrain = accuracy(A2, ytrainy)\n",
        "\n",
        "  atrain.append(acctrain)\n",
        "  errortrain.append(msetrain)\n",
        "\n",
        "  msetest = meanse(B2, ytesty)\n",
        "  acctest = accuracy(B2, ytesty)\n",
        "\n",
        "  atest.append(acctest)\n",
        "  errortest.append(msetest)\n",
        "\n",
        "  ##back propogation\n",
        "  E1 = A2 - ytrainy\n",
        "  dw1 = E1 * A2 * (1-A2)\n",
        "\n",
        "  E2 = np.dot(dw1, W2.T)\n",
        "  dw2 = E2 * A1 * (1-A1)\n",
        "\n",
        "  W2update = np.dot(A1.T, dw1)/N\n",
        "  W1update = np.dot(xtrain.T, dw2)/N\n",
        "\n",
        "  W2 = W2 - learningrate * W2update\n",
        "  W1 = W1 - learningrate * W1update\n",
        "\n",
        "plt.plot(atrain)\n",
        "plt.plot(atest)\n",
        "plt.title('Test and train accuracy model')\n",
        "plt.ylabel('Accuracy')\n",
        "plt.xlabel('number of iterations')\n",
        "plt.legend(['train', 'test'], loc='upper left')\n",
        "plt.show()\n",
        "\n",
        "plt.plot(errortrain)\n",
        "plt.plot(errortest)\n",
        "plt.title('Test and train loss model')\n",
        "plt.ylabel('loss')\n",
        "plt.xlabel('number of iterations')\n",
        "plt.legend(['train', 'test'], loc='upper left')\n",
        "plt.show()\n",
        "\n",
        "print(\"test accuracy\", atest[-1])\n",
        "print(\"train accuracy\", atrain[-1])"
      ],
      "metadata": {
        "colab": {
          "base_uri": "https://localhost:8080/",
          "height": 608
        },
        "id": "2fCEHLegGtgt",
        "outputId": "eb7c6a11-df94-4a01-a9c3-c7fc8fc23c9d"
      },
      "execution_count": 22,
      "outputs": [
        {
          "output_type": "display_data",
          "data": {
            "text/plain": [
              "<Figure size 432x288 with 1 Axes>"
            ],
            "image/png": "[encoded data removed]"
          },
          "metadata": {
            "needs_background": "light"
          }
        },
        {
          "output_type": "display_data",
          "data": {
            "text/plain": [
              "<Figure size 432x288 with 1 Axes>"
            ],
            "image/png": "[encoded data removed]"
          },
          "metadata": {
            "needs_background": "light"
          }
        },
        {
          "output_type": "stream",
          "name": "stdout",
          "text": [
            "test accuracy 0.4925373134328358\n",
            "train accuracy 0.42857142857142855\n"
          ]
        }
      ]
    },
    {
      "cell_type": "code",
      "source": [
        "class neuralnetwork(object):\n",
        "  def __init__(self):\n",
        "    self.inputsize = 12\n",
        "    self.outputsize = 2\n",
        "    self.hiddensize = 266\n",
        "\n",
        "    self.W1 = np.random.randn(self.inputsize, self.hiddensize)\n",
        "    self.W2 = np.random.randn(self.hiddensize, self.outputsize)\n",
        "    self.bias = 0.0\n",
        "\n",
        "\n",
        "  def feedforward(self, X):\n",
        "    #forwsrd propogation\n",
        "    # print(X.shape, self.W1.shape)\n",
        "    self.z = (np.dot(X, self.W1)) + self.bias\n",
        "    self.z2 = self.sigmoid(self.z) # activation function\n",
        "    self.z3 = np.dot(self.z2, self.W2) ## dot product of hidden layer and 2nd set of weights\n",
        "    output = self.sigmoid(self.z3)\n",
        "    return output\n",
        "\n",
        "\n",
        "  def sigmoid(self,s,deriv=False):\n",
        "    if (deriv == True):\n",
        "      return s * (1-2)\n",
        "    return 1/(1+np.exp(-s))\n",
        "\n",
        "\n",
        "  def backward(self, X, y, output):\n",
        "    ## backward propogate through the network\n",
        "    self.outputerror = y - output\n",
        "    self.errormean = np.mean(y - output)\n",
        "    self.outputdelta = self.outputerror * self.sigmoid(output, deriv=False)\n",
        "\n",
        "    self.z2error = self.outputdelta.dot(self.W2.T) ## z2 error: how much out hidden layer weights contributes to output error\n",
        "    self.z2delta = self.z2error * self.sigmoid(self.z2, deriv=True) ## applying derivative of sigmoid to z2 erroor\n",
        "\n",
        "    self.update1 = 0.001* X.T.dot(self.z2delta)\n",
        "    self.W1 += self.update1\n",
        "\n",
        "    self.update2 = 0.001* self.z2.T.dot(self.outputdelta)\n",
        "    self.W2 += self.update2\n",
        "\n",
        "    # self.W1 += X.T.dot(self.z2delta) ## adjusting the first set\n",
        "    # self.W2 += self.z2.T.dot(self.outputdelta)\n",
        "    self.bias += self.errormean\n",
        "\n",
        "  def train(self, X, y):\n",
        "    output = self.feedforward(X)\n",
        "    self.backward(X,y, output)\n",
        "\n",
        "NN = neuralnetwork()\n",
        "\n",
        "trainerror=[]\n",
        "testerror=[]\n",
        "for i in range(10000):\n",
        "  NN.train(xtrain,ytrainy)\n",
        "  trainerror.append((np.mean(np.square(ytrainy - NN.feedforward(xtrain)))))\n",
        "  testerror.append(np.mean(np.square(ytesty - NN.feedforward(xtest))))\n",
        "\n",
        "plt.plot(trainerror)\n",
        "plt.plot(testerror)\n",
        "plt.title('Test and train accuracy model')\n",
        "plt.ylabel('Accuracy')\n",
        "plt.xlabel('number of iterations')\n",
        "plt.legend(['train', 'test'], loc='upper left')\n",
        "plt.show()\n",
        "\n",
        "print(np.mean(np.square(ytrainy - NN.feedforward(xtrain))))\n",
        "print(np.mean(np.square(ytesty - NN.feedforward(xtest))))"
      ],
      "metadata": {
        "colab": {
          "base_uri": "https://localhost:8080/",
          "height": 347
        },
        "id": "QC4dEfWlGtvy",
        "outputId": "deeb30f9-3c38-42d8-d907-4d8df3f4a998"
      },
      "execution_count": 23,
      "outputs": [
        {
          "output_type": "stream",
          "name": "stderr",
          "text": [
            "/usr/local/lib/python3.7/dist-packages/ipykernel_launcher.py:25: RuntimeWarning: overflow encountered in exp\n"
          ]
        },
        {
          "output_type": "display_data",
          "data": {
            "text/plain": [
              "<Figure size 432x288 with 1 Axes>"
            ],
            "image/png": "[encoded data removed]"
          },
          "metadata": {
            "needs_background": "light"
          }
        },
        {
          "output_type": "stream",
          "name": "stdout",
          "text": [
            "0.46487588271904684\n",
            "0.53917527134718\n"
          ]
        }
      ]
    }
  ]
}